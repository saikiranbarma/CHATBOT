{
 "cells": [
  {
   "cell_type": "markdown",
   "id": "b9a16c83-f6f7-46bb-a311-500c9b94794c",
   "metadata": {},
   "source": [
    "## Load the JSON Data"
   ]
  },
  {
   "cell_type": "code",
   "execution_count": null,
   "id": "b84d621a-845b-451c-8e6c-5d90d5539307",
   "metadata": {},
   "outputs": [],
   "source": [
    "with open('chatbot.json', 'r') as file:\n",
    "    data = json.load(file)"
   ]
  },
  {
   "cell_type": "code",
   "execution_count": null,
   "id": "57ced170-70e6-4be1-bebc-441a6256e47a",
   "metadata": {},
   "outputs": [],
   "source": [
    "data"
   ]
  },
  {
   "cell_type": "markdown",
   "id": "523f7efe-8030-4cc9-b277-f8c60faee0af",
   "metadata": {},
   "source": [
    "## Extract Patterns, Tags, and Responses"
   ]
  },
  {
   "cell_type": "code",
   "execution_count": null,
   "id": "c8d79d1f-edb7-4555-ad79-7ffa988e33f6",
   "metadata": {},
   "outputs": [],
   "source": [
    "# Step 2: Extract Patterns, Tags, and Responses\n",
    "patterns = []  # Stores user inputs (patterns)\n",
    "tags = []  # Stores the corresponding intent tags\n",
    "responses = {}  # Maps each intent tag to its responses\n",
    "\n",
    "for intent in data['intents']:\n",
    "    for pattern in intent['patterns']:\n",
    "        patterns.append(pattern)\n",
    "        tags.append(intent['tag'])\n",
    "    responses[intent['tag']] = intent['responses']\n"
   ]
  },
  {
   "cell_type": "markdown",
   "id": "f63e09fe-d152-4003-8845-fb5fded7e473",
   "metadata": {},
   "source": [
    "## Data Preprocessing "
   ]
  },
  {
   "cell_type": "code",
   "execution_count": null,
   "id": "96e885db-2256-4754-96af-1338585d41c3",
   "metadata": {},
   "outputs": [],
   "source": [
    "vectorizer = CountVectorizer()\n",
    "X = vectorizer.fit_transform(patterns)  # Convert patterns to numerical vectors\n",
    "y = tags  # Tags are the labels\n",
    "\n",
    "unique_tags = list(set(tags))\n",
    "y_encoded = [unique_tags.index(tag) for tag in y]"
   ]
  },
  {
   "cell_type": "markdown",
   "id": "983ca8bf-3822-477e-8a16-371c07c27c4d",
   "metadata": {},
   "source": [
    "## Split Data into Training and Testing Sets"
   ]
  },
  {
   "cell_type": "code",
   "execution_count": null,
   "id": "886e1077-88a8-456d-9d1a-2e8b2c5452d2",
   "metadata": {},
   "outputs": [],
   "source": [
    "#Split Data into Training and Testing Sets\n",
    "X_train, X_test, y_train, y_test = train_test_split(\n",
    "    X, y_encoded, test_size=0.2, random_state=42\n",
    ")\n"
   ]
  },
  {
   "cell_type": "markdown",
   "id": "13e97c8e-5fd7-48e2-9963-e9a1bd455bc8",
   "metadata": {},
   "source": [
    "## Train the Model"
   ]
  },
  {
   "cell_type": "code",
   "execution_count": null,
   "id": "23f011fe-7f33-4692-ab31-816097d197d5",
   "metadata": {},
   "outputs": [],
   "source": [
    "# Step 5: Train the Naive Bayes Classifier\n",
    "model = MultinomialNB()  # A Naive Bayes classifier for multinomial data\n",
    "model.fit(X_train, y_train)  # Train the model with training data\n"
   ]
  },
  {
   "cell_type": "markdown",
   "id": "15aadf63-470c-4a01-aeb8-6cc82a96c603",
   "metadata": {},
   "source": [
    "## Evaluate the Model"
   ]
  },
  {
   "cell_type": "code",
   "execution_count": null,
   "id": "6d361561-bd59-4dd0-9093-674f4a6bf196",
   "metadata": {},
   "outputs": [],
   "source": [
    "# Step 6: Evaluate the Model\n",
    "y_pred = model.predict(X_test)  # Predict the intents for test data\n",
    "accuracy = accuracy_score(y_test, y_pred)  # Calculate accuracy\n",
    "print(f\"Model Accuracy: {accuracy:.2f}\")"
   ]
  },
  {
   "cell_type": "markdown",
   "id": "a02d95a1-9ae2-4a01-8606-34c26293ccb3",
   "metadata": {},
   "source": [
    "## Build the Chatbot Framework"
   ]
  },
  {
   "cell_type": "code",
   "execution_count": null,
   "id": "473e9847-b94b-45f0-b2fd-16a46d01bfad",
   "metadata": {},
   "outputs": [],
   "source": [
    "# Step 7: Build the Chatbot Framework\n",
    "def chatbot_response(user_input):\n",
    "    \"\"\"\n",
    "    Processes the user input, predicts the intent, and returns a response.\n",
    "    \"\"\"\n",
    "    user_input_vectorized = vectorizer.transform([user_input])  # Vectorize the input\n",
    "    predicted_tag_index = model.predict(user_input_vectorized)[0]  # Predict the intent\n",
    "    predicted_tag = unique_tags[predicted_tag_index]  # Get the intent tag\n",
    "    return random.choice(responses[predicted_tag])  # Randomly select a response\n"
   ]
  },
  {
   "cell_type": "markdown",
   "id": "9534a0c7-bd77-4c51-bb15-90836c487c5c",
   "metadata": {},
   "source": [
    "##  Run the Chatbot"
   ]
  },
  {
   "cell_type": "code",
   "execution_count": null,
   "id": "b48ea2bd-1739-4cbc-84b1-1cec29c2644a",
   "metadata": {},
   "outputs": [],
   "source": [
    "# Step 8: Run the Chatbot\n",
    "print(\"Chatbot: Hello! I am your assistant. Type 'exit' to end the conversation.\")\n",
    "\n",
    "while True:\n",
    "    user_input = input(\"You: \")  # Take user input\n",
    "    if user_input.lower() == \"exit\":  # Exit condition\n",
    "        print(\"Chatbot: Goodbye! Have a nice day!\")\n",
    "        break\n",
    "    response = chatbot_response(user_input)  # Get chatbot response\n",
    "    print(f\"Chatbot: {response}\")"
   ]
  },
  {
   "cell_type": "code",
   "execution_count": null,
   "id": "7da1ed37-039a-4869-a518-5b8bba381c53",
   "metadata": {},
   "outputs": [],
   "source": []
  }
 ],
 "metadata": {
  "kernelspec": {
   "display_name": "Python 3 (ipykernel)",
   "language": "python",
   "name": "python3"
  },
  "language_info": {
   "codemirror_mode": {
    "name": "ipython",
    "version": 3
   },
   "file_extension": ".py",
   "mimetype": "text/x-python",
   "name": "python",
   "nbconvert_exporter": "python",
   "pygments_lexer": "ipython3",
   "version": "3.11.8"
  }
 },
 "nbformat": 4,
 "nbformat_minor": 5
}
